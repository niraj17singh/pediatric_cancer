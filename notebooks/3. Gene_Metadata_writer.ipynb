{
 "cells": [
  {
   "cell_type": "code",
   "execution_count": 11,
   "id": "10731bbd-c14e-41f4-8027-101224d67475",
   "metadata": {
    "tags": []
   },
   "outputs": [],
   "source": [
    "#pip install biopython requests goatools\n",
    "#pip install -e git+https://github.com/biothings/mygene.py#egg=mygene"
   ]
  },
  {
   "cell_type": "code",
   "execution_count": 3,
   "id": "f29ad94f-e27e-4d57-a923-703ef61931a8",
   "metadata": {},
   "outputs": [
    {
     "name": "stderr",
     "output_type": "stream",
     "text": [
      "28 input query terms found dup hits:\t[('BTN2A3P', 2), ('FCGR2C', 2), ('GLRA4', 2), ('IGHA1', 2), ('IGHG1', 2), ('IGHM', 2), ('MMD2', 2), \n",
      "233 input query terms found no hit:\t['ACPP', 'ACPT', 'ADSS', 'AGPAT6', 'AGPAT9', 'ALPPL2', 'AMICA1', 'AQPEP', 'ARSE', 'ATP5G1', 'ATP5G2'\n"
     ]
    },
    {
     "data": {
      "text/plain": [
       "'gene_metadata_with_go_terms.csv'"
      ]
     },
     "execution_count": 3,
     "metadata": {},
     "output_type": "execute_result"
    }
   ],
   "source": [
    "import mygene\n",
    "import pandas as pd\n",
    "\n",
    "# Initialize MyGene.info\n",
    "mg = mygene.MyGeneInfo()\n",
    "\n",
    "# Load the gene metadata file\n",
    "gene_metadata_path = 'gene_metadata_neuroblastoma.xlsx'\n",
    "gene_metadata_df = pd.read_excel(gene_metadata_path)\n",
    "\n",
    "# Extract unique gene symbols\n",
    "gene_symbols = gene_metadata_df['Gene Symbol'].unique().tolist()\n",
    "\n",
    "# Query MyGene.info for gene annotations including GO terms\n",
    "gene_info = mg.querymany(gene_symbols, scopes='symbol', fields='go', species='human', returnall=True)\n",
    "\n",
    "# Extract the list of hits and handle duplicates\n",
    "gene_hits = gene_info['out']\n",
    "unique_hits = {}\n",
    "for hit in gene_hits:\n",
    "    if hit['query'] not in unique_hits:\n",
    "        unique_hits[hit['query']] = hit\n",
    "\n",
    "# Convert the unique hits to a DataFrame\n",
    "gene_info_df = pd.DataFrame(unique_hits.values())\n",
    "\n",
    "# Flatten the GO term information if it's nested\n",
    "def flatten_go_terms(go_info):\n",
    "    if isinstance(go_info, dict):\n",
    "        go_terms = []\n",
    "        for go_type in go_info.values():\n",
    "            if isinstance(go_type, list):\n",
    "                go_terms.extend(go_type)\n",
    "        return \";\".join([f\"{term['id']}:{term['term']}\" for term in go_terms if isinstance(term, dict)])\n",
    "    return None\n",
    "\n",
    "gene_info_df['go_terms'] = gene_info_df['go'].apply(flatten_go_terms)\n",
    "\n",
    "# Merge with the original gene metadata\n",
    "merged_df = gene_metadata_df.merge(gene_info_df[['query', 'go_terms']], left_on='Gene Symbol', right_on='query', how='left')\n",
    "\n",
    "# Save the merged dataframe to a new CSV file\n",
    "output_path = 'gene_metadata_with_go_terms.csv'\n",
    "merged_df.to_csv(output_path, index=False)\n",
    "\n",
    "# Display the path to the saved file for the user\n",
    "output_path\n"
   ]
  },
  {
   "cell_type": "code",
   "execution_count": 7,
   "id": "d0260ef8-42e0-4921-9452-cb9b7d4c4219",
   "metadata": {},
   "outputs": [
    {
     "name": "stdout",
     "output_type": "stream",
     "text": [
      "Final file saved to: final_go_categories_with_gene_means.csv\n"
     ]
    }
   ],
   "source": [
    "import pandas as pd\n",
    "\n",
    "# Load the gene metadata and README file\n",
    "metadata_file = 'gene_metadata_with_go_terms.csv'  # Update with the correct path\n",
    "readme_file = 'gene_metadata_neuroblastoma_README.xlsx'  # Update with the correct path\n",
    "\n",
    "# Read the gene metadata CSV file\n",
    "gene_metadata = pd.read_csv(metadata_file)\n",
    "\n",
    "# Extract the necessary columns for GO Categories\n",
    "go_data = gene_metadata[['Gene Symbol', 'go_terms']].copy()\n",
    "\n",
    "# Split GO terms into individual terms\n",
    "go_data['go_terms'] = go_data['go_terms'].str.split(';')\n",
    "\n",
    "# Explode the DataFrame so each row contains a single GO term\n",
    "exploded_go_data = go_data.explode('go_terms')\n",
    "\n",
    "# Remove duplicates\n",
    "unique_go_data = exploded_go_data.drop_duplicates()\n",
    "\n",
    "# Group by GO term and aggregate unique gene symbols into a comma-separated string\n",
    "go_categories = unique_go_data.groupby('go_terms')['Gene Symbol'].apply(lambda x: ', '.join(sorted(set(x)))).reset_index()\n",
    "\n",
    "# Rename columns\n",
    "go_categories.columns = ['GO Categories', 'Gene Symbol']\n",
    "\n",
    "# Remove rows where the \"GO Categories\" field is empty\n",
    "go_categories_cleaned = go_categories[go_categories['GO Categories'].str.strip() != '']\n",
    "\n",
    "# Extract necessary columns from the gene metadata\n",
    "gene_metadata_reduced = gene_metadata[['Gene Symbol', 'Group', 'logFC', 'PValue', 'FDR', 'go_terms']].copy()\n",
    "\n",
    "# Split GO terms into individual terms\n",
    "gene_metadata_reduced['go_terms'] = gene_metadata_reduced['go_terms'].str.split(';')\n",
    "\n",
    "# Explode the DataFrame so each row contains a single GO term\n",
    "exploded_metadata = gene_metadata_reduced.explode('go_terms')\n",
    "\n",
    "# Merge with cleaned GO categories data to get the relevant genes for each GO category\n",
    "merged_data = pd.merge(go_categories_cleaned, exploded_metadata, left_on='GO Categories', right_on='go_terms', how='left')\n",
    "\n",
    "# Group by 'GO Categories' and 'Group', then calculate the mean of 'logFC', 'PValue', and 'FDR'\n",
    "grouped_data = merged_data.groupby(['GO Categories', 'Group']).agg({\n",
    "    'logFC': 'mean',\n",
    "    'PValue': 'mean',\n",
    "    'FDR': 'mean'\n",
    "}).reset_index()\n",
    "\n",
    "# Pivot the table to get the desired format\n",
    "pivot_data = grouped_data.pivot(index='GO Categories', columns='Group', values=['logFC', 'PValue', 'FDR'])\n",
    "\n",
    "# Flatten the MultiIndex columns\n",
    "pivot_data.columns = [f'{group}_{stat}_mean' for stat, group in pivot_data.columns]\n",
    "\n",
    "# Merge with the original GO categories data\n",
    "final_data = pd.merge(go_categories_cleaned, pivot_data, on='GO Categories', how='left')\n",
    "\n",
    "# Save the final result to a new CSV file\n",
    "final_output_file = 'final_go_categories_with_gene_means.csv'  # Update with the correct path\n",
    "final_data.to_csv(final_output_file, index=False)\n",
    "\n",
    "print(f\"Final file saved to: {final_output_file}\")\n"
   ]
  },
  {
   "cell_type": "code",
   "execution_count": null,
   "id": "513f5385-bcfa-45f6-af6e-0e03f7d2b610",
   "metadata": {},
   "outputs": [],
   "source": []
  }
 ],
 "metadata": {
  "kernelspec": {
   "display_name": "Python 3 (ipykernel)",
   "language": "python",
   "name": "python3"
  },
  "language_info": {
   "codemirror_mode": {
    "name": "ipython",
    "version": 3
   },
   "file_extension": ".py",
   "mimetype": "text/x-python",
   "name": "python",
   "nbconvert_exporter": "python",
   "pygments_lexer": "ipython3",
   "version": "3.10.13"
  }
 },
 "nbformat": 4,
 "nbformat_minor": 5
}
